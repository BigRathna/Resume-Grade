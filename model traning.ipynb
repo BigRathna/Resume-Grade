{
 "cells": [
  {
   "cell_type": "code",
   "execution_count": 15,
   "metadata": {},
   "outputs": [],
   "source": [
    "import pandas as pd\n",
    "import numpy as np\n",
    "import tensorflow as tf\n",
    "from tensorflow.keras.models import Sequential\n",
    "from tensorflow.keras.layers import Embedding, LSTM, Dense, Dropout, Bidirectional\n",
    "from tensorflow.keras.preprocessing.text import Tokenizer\n",
    "from tensorflow.keras.preprocessing.sequence import pad_sequences\n",
    "from sklearn.model_selection import train_test_split\n"
   ]
  },
  {
   "cell_type": "code",
   "execution_count": 16,
   "metadata": {},
   "outputs": [],
   "source": [
    "\n",
    "data = pd.read_csv('processed/preprocessed_cv_data.csv')\n",
    "data['accepted'] = 1"
   ]
  },
  {
   "cell_type": "code",
   "execution_count": 17,
   "metadata": {},
   "outputs": [],
   "source": [
    "X = data['processed_text'].values\n",
    "y = data['accepted'].values"
   ]
  },
  {
   "cell_type": "code",
   "execution_count": 18,
   "metadata": {},
   "outputs": [],
   "source": [
    "X_train, X_test, y_train, y_test = train_test_split(X, y, test_size=0.2, random_state=42)\n",
    "\n",
    "\n",
    "# Tokenize the input text\n",
    "tokenizer = Tokenizer()\n",
    "tokenizer.fit_on_texts(X_train)\n"
   ]
  },
  {
   "cell_type": "code",
   "execution_count": 19,
   "metadata": {},
   "outputs": [],
   "source": [
    "# Tokenize the input text\n",
    "tokenizer = Tokenizer()\n",
    "tokenizer.fit_on_texts(X_train)"
   ]
  },
  {
   "cell_type": "code",
   "execution_count": 20,
   "metadata": {},
   "outputs": [],
   "source": [
    "X_train_tokens = tokenizer.texts_to_sequences(X_train)\n",
    "X_test_tokens = tokenizer.texts_to_sequences(X_test)"
   ]
  },
  {
   "cell_type": "code",
   "execution_count": 21,
   "metadata": {},
   "outputs": [],
   "source": [
    "vocab_size = len(tokenizer.word_index) + 1\n",
    "\n",
    "# Pad the sequences to ensure equal length\n",
    "max_sequence_length = max(len(seq) for seq in X_train_tokens)\n",
    "\n",
    "X_train_pad = pad_sequences(X_train_tokens, maxlen=max_sequence_length, padding='post')\n",
    "X_test_pad = pad_sequences(X_test_tokens, maxlen=max_sequence_length, padding='post')\n"
   ]
  },
  {
   "cell_type": "code",
   "execution_count": 22,
   "metadata": {},
   "outputs": [
    {
     "data": {
      "text/plain": [
       "2744"
      ]
     },
     "execution_count": 22,
     "metadata": {},
     "output_type": "execute_result"
    }
   ],
   "source": [
    "max(len(seq) for seq in X_train_tokens)"
   ]
  },
  {
   "cell_type": "code",
   "execution_count": 23,
   "metadata": {},
   "outputs": [],
   "source": [
    "model = Sequential()\n",
    "model.add(Embedding(vocab_size, 300, input_length=max_sequence_length))\n",
    "model.add(LSTM(256, return_sequences=True))\n",
    "model.add(LSTM(128, return_sequences=True))\n",
    "model.add(LSTM(64))\n",
    "model.add(Dense(64, activation='relu'))\n",
    "model.add(Dropout(0.2))\n",
    "model.add(Dense(1, activation='sigmoid'))\n",
    "model.compile(loss='binary_crossentropy', optimizer='adam', metrics=['accuracy'])\n"
   ]
  },
  {
   "cell_type": "code",
   "execution_count": 24,
   "metadata": {},
   "outputs": [
    {
     "name": "stdout",
     "output_type": "stream",
     "text": [
      "Epoch 1/100\n",
      "6/6 [==============================] - 9s 839ms/step - loss: 0.5290 - accuracy: 0.8012 - val_loss: 0.0764 - val_accuracy: 1.0000\n",
      "Epoch 2/100\n",
      "6/6 [==============================] - 4s 649ms/step - loss: 0.0398 - accuracy: 1.0000 - val_loss: 0.0066 - val_accuracy: 1.0000\n",
      "Epoch 3/100\n",
      "6/6 [==============================] - 4s 659ms/step - loss: 0.0060 - accuracy: 1.0000 - val_loss: 0.0011 - val_accuracy: 1.0000\n",
      "Epoch 4/100\n",
      "6/6 [==============================] - 4s 661ms/step - loss: 0.0012 - accuracy: 1.0000 - val_loss: 3.6524e-04 - val_accuracy: 1.0000\n",
      "Epoch 5/100\n",
      "6/6 [==============================] - 4s 657ms/step - loss: 7.1464e-04 - accuracy: 1.0000 - val_loss: 1.7346e-04 - val_accuracy: 1.0000\n",
      "Epoch 6/100\n",
      "6/6 [==============================] - 4s 657ms/step - loss: 2.7098e-04 - accuracy: 1.0000 - val_loss: 1.0899e-04 - val_accuracy: 1.0000\n",
      "Epoch 7/100\n",
      "6/6 [==============================] - 4s 672ms/step - loss: 2.2023e-04 - accuracy: 1.0000 - val_loss: 8.1553e-05 - val_accuracy: 1.0000\n",
      "Epoch 8/100\n",
      "6/6 [==============================] - 4s 664ms/step - loss: 1.2998e-04 - accuracy: 1.0000 - val_loss: 6.7912e-05 - val_accuracy: 1.0000\n",
      "Epoch 9/100\n",
      "6/6 [==============================] - 4s 658ms/step - loss: 1.7107e-04 - accuracy: 1.0000 - val_loss: 5.9719e-05 - val_accuracy: 1.0000\n",
      "Epoch 10/100\n",
      "6/6 [==============================] - 4s 694ms/step - loss: 1.7643e-04 - accuracy: 1.0000 - val_loss: 5.4118e-05 - val_accuracy: 1.0000\n",
      "Epoch 11/100\n",
      "6/6 [==============================] - 4s 654ms/step - loss: 1.3619e-04 - accuracy: 1.0000 - val_loss: 4.9472e-05 - val_accuracy: 1.0000\n",
      "Epoch 12/100\n",
      "6/6 [==============================] - 4s 674ms/step - loss: 1.2516e-04 - accuracy: 1.0000 - val_loss: 4.5123e-05 - val_accuracy: 1.0000\n",
      "Epoch 13/100\n",
      "6/6 [==============================] - 4s 697ms/step - loss: 1.0396e-04 - accuracy: 1.0000 - val_loss: 4.1934e-05 - val_accuracy: 1.0000\n",
      "Epoch 14/100\n",
      "6/6 [==============================] - 4s 667ms/step - loss: 1.4645e-04 - accuracy: 1.0000 - val_loss: 3.9121e-05 - val_accuracy: 1.0000\n",
      "Epoch 15/100\n",
      "6/6 [==============================] - 4s 683ms/step - loss: 6.8739e-05 - accuracy: 1.0000 - val_loss: 3.6812e-05 - val_accuracy: 1.0000\n",
      "Epoch 16/100\n",
      "6/6 [==============================] - 4s 728ms/step - loss: 1.2930e-04 - accuracy: 1.0000 - val_loss: 3.4528e-05 - val_accuracy: 1.0000\n",
      "Epoch 17/100\n",
      "6/6 [==============================] - 4s 671ms/step - loss: 8.5638e-05 - accuracy: 1.0000 - val_loss: 3.2168e-05 - val_accuracy: 1.0000\n",
      "Epoch 18/100\n",
      "6/6 [==============================] - 4s 690ms/step - loss: 1.0208e-04 - accuracy: 1.0000 - val_loss: 3.0187e-05 - val_accuracy: 1.0000\n",
      "Epoch 19/100\n",
      "6/6 [==============================] - 4s 698ms/step - loss: 6.7767e-05 - accuracy: 1.0000 - val_loss: 2.8601e-05 - val_accuracy: 1.0000\n",
      "Epoch 20/100\n",
      "6/6 [==============================] - 4s 730ms/step - loss: 7.6125e-05 - accuracy: 1.0000 - val_loss: 2.7204e-05 - val_accuracy: 1.0000\n",
      "Epoch 21/100\n",
      "6/6 [==============================] - 4s 726ms/step - loss: 6.0147e-05 - accuracy: 1.0000 - val_loss: 2.6022e-05 - val_accuracy: 1.0000\n",
      "Epoch 22/100\n",
      "6/6 [==============================] - 4s 715ms/step - loss: 9.0516e-05 - accuracy: 1.0000 - val_loss: 2.4804e-05 - val_accuracy: 1.0000\n",
      "Epoch 23/100\n",
      "6/6 [==============================] - 4s 704ms/step - loss: 5.0823e-05 - accuracy: 1.0000 - val_loss: 2.3740e-05 - val_accuracy: 1.0000\n",
      "Epoch 24/100\n",
      "6/6 [==============================] - 4s 697ms/step - loss: 6.5741e-05 - accuracy: 1.0000 - val_loss: 2.2646e-05 - val_accuracy: 1.0000\n",
      "Epoch 25/100\n",
      "6/6 [==============================] - 4s 703ms/step - loss: 4.2115e-05 - accuracy: 1.0000 - val_loss: 2.1526e-05 - val_accuracy: 1.0000\n",
      "Epoch 26/100\n",
      "6/6 [==============================] - 4s 708ms/step - loss: 5.2600e-05 - accuracy: 1.0000 - val_loss: 2.0555e-05 - val_accuracy: 1.0000\n",
      "Epoch 27/100\n",
      "6/6 [==============================] - 4s 710ms/step - loss: 5.9977e-05 - accuracy: 1.0000 - val_loss: 1.9648e-05 - val_accuracy: 1.0000\n",
      "Epoch 28/100\n",
      "6/6 [==============================] - 4s 692ms/step - loss: 8.3190e-05 - accuracy: 1.0000 - val_loss: 1.8585e-05 - val_accuracy: 1.0000\n",
      "Epoch 29/100\n",
      "6/6 [==============================] - 4s 686ms/step - loss: 4.3750e-05 - accuracy: 1.0000 - val_loss: 1.5262e-05 - val_accuracy: 1.0000\n",
      "Epoch 30/100\n",
      "6/6 [==============================] - 4s 709ms/step - loss: 3.9572e-05 - accuracy: 1.0000 - val_loss: 1.1812e-05 - val_accuracy: 1.0000\n",
      "Epoch 31/100\n",
      "6/6 [==============================] - 4s 706ms/step - loss: 1.7314e-05 - accuracy: 1.0000 - val_loss: 9.1003e-06 - val_accuracy: 1.0000\n",
      "Epoch 32/100\n",
      "6/6 [==============================] - 5s 757ms/step - loss: 2.7435e-05 - accuracy: 1.0000 - val_loss: 7.1585e-06 - val_accuracy: 1.0000\n",
      "Epoch 33/100\n",
      "6/6 [==============================] - 4s 729ms/step - loss: 2.4689e-05 - accuracy: 1.0000 - val_loss: 5.6714e-06 - val_accuracy: 1.0000\n",
      "Epoch 34/100\n",
      "6/6 [==============================] - 4s 737ms/step - loss: 1.5759e-05 - accuracy: 1.0000 - val_loss: 4.5195e-06 - val_accuracy: 1.0000\n",
      "Epoch 35/100\n",
      "6/6 [==============================] - 4s 758ms/step - loss: 1.4716e-05 - accuracy: 1.0000 - val_loss: 3.7709e-06 - val_accuracy: 1.0000\n",
      "Epoch 36/100\n",
      "6/6 [==============================] - 4s 737ms/step - loss: 1.5354e-05 - accuracy: 1.0000 - val_loss: 3.2235e-06 - val_accuracy: 1.0000\n",
      "Epoch 37/100\n",
      "6/6 [==============================] - 4s 724ms/step - loss: 8.5431e-06 - accuracy: 1.0000 - val_loss: 2.8330e-06 - val_accuracy: 1.0000\n",
      "Epoch 38/100\n",
      "6/6 [==============================] - 4s 721ms/step - loss: 1.0362e-05 - accuracy: 1.0000 - val_loss: 2.4917e-06 - val_accuracy: 1.0000\n",
      "Epoch 39/100\n",
      "6/6 [==============================] - 4s 760ms/step - loss: 1.5482e-05 - accuracy: 1.0000 - val_loss: 2.2497e-06 - val_accuracy: 1.0000\n",
      "Epoch 40/100\n",
      "6/6 [==============================] - 4s 743ms/step - loss: 9.7457e-06 - accuracy: 1.0000 - val_loss: 2.0027e-06 - val_accuracy: 1.0000\n",
      "Epoch 41/100\n",
      "6/6 [==============================] - 4s 729ms/step - loss: 8.6962e-06 - accuracy: 1.0000 - val_loss: 1.6762e-06 - val_accuracy: 1.0000\n",
      "Epoch 42/100\n",
      "6/6 [==============================] - 5s 783ms/step - loss: 1.7968e-05 - accuracy: 1.0000 - val_loss: 1.4734e-06 - val_accuracy: 1.0000\n",
      "Epoch 43/100\n",
      "6/6 [==============================] - 5s 791ms/step - loss: 9.7080e-06 - accuracy: 1.0000 - val_loss: 1.3465e-06 - val_accuracy: 1.0000\n",
      "Epoch 44/100\n",
      "6/6 [==============================] - 4s 744ms/step - loss: 6.8352e-06 - accuracy: 1.0000 - val_loss: 1.2604e-06 - val_accuracy: 1.0000\n",
      "Epoch 45/100\n",
      "6/6 [==============================] - 4s 734ms/step - loss: 1.9196e-05 - accuracy: 1.0000 - val_loss: 1.1741e-06 - val_accuracy: 1.0000\n",
      "Epoch 46/100\n",
      "6/6 [==============================] - 5s 772ms/step - loss: 3.7766e-06 - accuracy: 1.0000 - val_loss: 1.0974e-06 - val_accuracy: 1.0000\n",
      "Epoch 47/100\n",
      "6/6 [==============================] - 5s 775ms/step - loss: 2.2248e-05 - accuracy: 1.0000 - val_loss: 1.0275e-06 - val_accuracy: 1.0000\n",
      "Epoch 48/100\n",
      "6/6 [==============================] - 5s 770ms/step - loss: 1.1354e-05 - accuracy: 1.0000 - val_loss: 9.6754e-07 - val_accuracy: 1.0000\n",
      "Epoch 49/100\n",
      "6/6 [==============================] - 5s 777ms/step - loss: 1.0336e-05 - accuracy: 1.0000 - val_loss: 9.1851e-07 - val_accuracy: 1.0000\n",
      "Epoch 50/100\n",
      "6/6 [==============================] - 4s 745ms/step - loss: 4.9775e-06 - accuracy: 1.0000 - val_loss: 8.7865e-07 - val_accuracy: 1.0000\n",
      "Epoch 51/100\n",
      "6/6 [==============================] - 4s 755ms/step - loss: 6.2624e-06 - accuracy: 1.0000 - val_loss: 8.4344e-07 - val_accuracy: 1.0000\n",
      "Epoch 52/100\n",
      "6/6 [==============================] - 5s 763ms/step - loss: 1.7993e-05 - accuracy: 1.0000 - val_loss: 8.1061e-07 - val_accuracy: 1.0000\n",
      "Epoch 53/100\n",
      "6/6 [==============================] - 5s 774ms/step - loss: 3.3760e-06 - accuracy: 1.0000 - val_loss: 7.8019e-07 - val_accuracy: 1.0000\n",
      "Epoch 54/100\n",
      "6/6 [==============================] - 4s 761ms/step - loss: 1.5933e-05 - accuracy: 1.0000 - val_loss: 7.5057e-07 - val_accuracy: 1.0000\n",
      "Epoch 55/100\n",
      "6/6 [==============================] - 5s 802ms/step - loss: 5.9022e-06 - accuracy: 1.0000 - val_loss: 7.1814e-07 - val_accuracy: 1.0000\n",
      "Epoch 56/100\n",
      "6/6 [==============================] - 5s 791ms/step - loss: 5.1459e-06 - accuracy: 1.0000 - val_loss: 6.7485e-07 - val_accuracy: 1.0000\n",
      "Epoch 57/100\n",
      "6/6 [==============================] - 5s 794ms/step - loss: 7.5732e-06 - accuracy: 1.0000 - val_loss: 6.4378e-07 - val_accuracy: 1.0000\n",
      "Epoch 58/100\n",
      "6/6 [==============================] - 5s 845ms/step - loss: 1.2909e-05 - accuracy: 1.0000 - val_loss: 6.1752e-07 - val_accuracy: 1.0000\n",
      "Epoch 59/100\n",
      "6/6 [==============================] - 5s 780ms/step - loss: 7.7102e-06 - accuracy: 1.0000 - val_loss: 5.9541e-07 - val_accuracy: 1.0000\n",
      "Epoch 60/100\n",
      "6/6 [==============================] - 5s 815ms/step - loss: 1.5404e-05 - accuracy: 1.0000 - val_loss: 5.7256e-07 - val_accuracy: 1.0000\n",
      "Epoch 61/100\n",
      "6/6 [==============================] - 5s 797ms/step - loss: 6.3469e-06 - accuracy: 1.0000 - val_loss: 5.4924e-07 - val_accuracy: 1.0000\n",
      "Epoch 62/100\n",
      "6/6 [==============================] - 5s 769ms/step - loss: 1.2693e-05 - accuracy: 1.0000 - val_loss: 5.2604e-07 - val_accuracy: 1.0000\n",
      "Epoch 63/100\n",
      "6/6 [==============================] - 4s 758ms/step - loss: 3.0493e-06 - accuracy: 1.0000 - val_loss: 5.0606e-07 - val_accuracy: 1.0000\n",
      "Epoch 64/100\n",
      "6/6 [==============================] - 4s 753ms/step - loss: 8.7714e-06 - accuracy: 1.0000 - val_loss: 4.8291e-07 - val_accuracy: 1.0000\n",
      "Epoch 65/100\n",
      "6/6 [==============================] - 5s 797ms/step - loss: 4.6635e-06 - accuracy: 1.0000 - val_loss: 4.6405e-07 - val_accuracy: 1.0000\n",
      "Epoch 66/100\n",
      "6/6 [==============================] - 5s 831ms/step - loss: 1.2118e-05 - accuracy: 1.0000 - val_loss: 4.4713e-07 - val_accuracy: 1.0000\n",
      "Epoch 67/100\n",
      "6/6 [==============================] - 5s 799ms/step - loss: 8.8025e-06 - accuracy: 1.0000 - val_loss: 4.3154e-07 - val_accuracy: 1.0000\n",
      "Epoch 68/100\n",
      "6/6 [==============================] - 5s 780ms/step - loss: 5.0572e-06 - accuracy: 1.0000 - val_loss: 4.1790e-07 - val_accuracy: 1.0000\n",
      "Epoch 69/100\n",
      "6/6 [==============================] - 5s 785ms/step - loss: 4.8710e-06 - accuracy: 1.0000 - val_loss: 4.0580e-07 - val_accuracy: 1.0000\n",
      "Epoch 70/100\n",
      "6/6 [==============================] - 5s 809ms/step - loss: 9.8285e-06 - accuracy: 1.0000 - val_loss: 3.9405e-07 - val_accuracy: 1.0000\n",
      "Epoch 71/100\n",
      "6/6 [==============================] - 5s 776ms/step - loss: 6.6645e-06 - accuracy: 1.0000 - val_loss: 3.8343e-07 - val_accuracy: 1.0000\n",
      "Epoch 72/100\n",
      "6/6 [==============================] - 5s 790ms/step - loss: 8.0931e-06 - accuracy: 1.0000 - val_loss: 3.7342e-07 - val_accuracy: 1.0000\n",
      "Epoch 73/100\n",
      "6/6 [==============================] - 5s 781ms/step - loss: 6.9715e-06 - accuracy: 1.0000 - val_loss: 3.6367e-07 - val_accuracy: 1.0000\n",
      "Epoch 74/100\n",
      "6/6 [==============================] - 4s 756ms/step - loss: 5.0487e-06 - accuracy: 1.0000 - val_loss: 3.5503e-07 - val_accuracy: 1.0000\n",
      "Epoch 75/100\n",
      "6/6 [==============================] - 4s 761ms/step - loss: 6.7815e-06 - accuracy: 1.0000 - val_loss: 3.4713e-07 - val_accuracy: 1.0000\n",
      "Epoch 76/100\n",
      "6/6 [==============================] - 5s 768ms/step - loss: 4.1703e-06 - accuracy: 1.0000 - val_loss: 3.3895e-07 - val_accuracy: 1.0000\n",
      "Epoch 77/100\n",
      "6/6 [==============================] - 4s 768ms/step - loss: 4.4993e-06 - accuracy: 1.0000 - val_loss: 3.3151e-07 - val_accuracy: 1.0000\n",
      "Epoch 78/100\n",
      "6/6 [==============================] - 4s 744ms/step - loss: 2.6522e-06 - accuracy: 1.0000 - val_loss: 3.2467e-07 - val_accuracy: 1.0000\n",
      "Epoch 79/100\n",
      "6/6 [==============================] - 4s 764ms/step - loss: 2.4986e-06 - accuracy: 1.0000 - val_loss: 3.1914e-07 - val_accuracy: 1.0000\n",
      "Epoch 80/100\n",
      "6/6 [==============================] - 4s 729ms/step - loss: 9.1006e-06 - accuracy: 1.0000 - val_loss: 3.1307e-07 - val_accuracy: 1.0000\n",
      "Epoch 81/100\n",
      "6/6 [==============================] - 4s 739ms/step - loss: 2.6880e-05 - accuracy: 1.0000 - val_loss: 3.0373e-07 - val_accuracy: 1.0000\n",
      "Epoch 82/100\n",
      "6/6 [==============================] - 5s 771ms/step - loss: 4.2396e-06 - accuracy: 1.0000 - val_loss: 2.9487e-07 - val_accuracy: 1.0000\n",
      "Epoch 83/100\n",
      "6/6 [==============================] - 5s 769ms/step - loss: 1.0435e-05 - accuracy: 1.0000 - val_loss: 2.8677e-07 - val_accuracy: 1.0000\n",
      "Epoch 84/100\n",
      "6/6 [==============================] - 4s 752ms/step - loss: 8.2486e-06 - accuracy: 1.0000 - val_loss: 2.7792e-07 - val_accuracy: 1.0000\n",
      "Epoch 85/100\n",
      "6/6 [==============================] - 4s 757ms/step - loss: 8.1605e-06 - accuracy: 1.0000 - val_loss: 2.6955e-07 - val_accuracy: 1.0000\n",
      "Epoch 86/100\n",
      "6/6 [==============================] - 5s 761ms/step - loss: 4.3159e-06 - accuracy: 1.0000 - val_loss: 2.6211e-07 - val_accuracy: 1.0000\n",
      "Epoch 87/100\n",
      "6/6 [==============================] - 4s 747ms/step - loss: 3.0460e-06 - accuracy: 1.0000 - val_loss: 2.5537e-07 - val_accuracy: 1.0000\n",
      "Epoch 88/100\n",
      "6/6 [==============================] - 4s 758ms/step - loss: 3.6186e-06 - accuracy: 1.0000 - val_loss: 2.4995e-07 - val_accuracy: 1.0000\n",
      "Epoch 89/100\n",
      "6/6 [==============================] - 4s 750ms/step - loss: 3.9998e-06 - accuracy: 1.0000 - val_loss: 2.4403e-07 - val_accuracy: 1.0000\n",
      "Epoch 90/100\n",
      "6/6 [==============================] - 5s 778ms/step - loss: 3.7319e-06 - accuracy: 1.0000 - val_loss: 2.3879e-07 - val_accuracy: 1.0000\n",
      "Epoch 91/100\n",
      "6/6 [==============================] - 4s 746ms/step - loss: 5.0671e-06 - accuracy: 1.0000 - val_loss: 2.3346e-07 - val_accuracy: 1.0000\n",
      "Epoch 92/100\n",
      "6/6 [==============================] - 5s 778ms/step - loss: 3.6641e-06 - accuracy: 1.0000 - val_loss: 2.2635e-07 - val_accuracy: 1.0000\n",
      "Epoch 93/100\n",
      "6/6 [==============================] - 5s 770ms/step - loss: 7.5799e-06 - accuracy: 1.0000 - val_loss: 2.1920e-07 - val_accuracy: 1.0000\n",
      "Epoch 94/100\n",
      "6/6 [==============================] - 4s 735ms/step - loss: 4.0442e-06 - accuracy: 1.0000 - val_loss: 2.1287e-07 - val_accuracy: 1.0000\n",
      "Epoch 95/100\n",
      "6/6 [==============================] - 5s 771ms/step - loss: 5.2007e-06 - accuracy: 1.0000 - val_loss: 2.0751e-07 - val_accuracy: 1.0000\n",
      "Epoch 96/100\n",
      "6/6 [==============================] - 5s 768ms/step - loss: 7.7282e-06 - accuracy: 1.0000 - val_loss: 2.0220e-07 - val_accuracy: 1.0000\n",
      "Epoch 97/100\n",
      "6/6 [==============================] - 4s 744ms/step - loss: 2.4961e-06 - accuracy: 1.0000 - val_loss: 1.9757e-07 - val_accuracy: 1.0000\n",
      "Epoch 98/100\n",
      "6/6 [==============================] - 4s 745ms/step - loss: 1.0257e-05 - accuracy: 1.0000 - val_loss: 1.9341e-07 - val_accuracy: 1.0000\n",
      "Epoch 99/100\n",
      "6/6 [==============================] - 4s 751ms/step - loss: 8.9602e-06 - accuracy: 1.0000 - val_loss: 1.8916e-07 - val_accuracy: 1.0000\n",
      "Epoch 100/100\n",
      "6/6 [==============================] - 4s 762ms/step - loss: 4.0919e-06 - accuracy: 1.0000 - val_loss: 1.8498e-07 - val_accuracy: 1.0000\n"
     ]
    },
    {
     "data": {
      "text/plain": [
       "<keras.callbacks.History at 0x1579cace230>"
      ]
     },
     "execution_count": 24,
     "metadata": {},
     "output_type": "execute_result"
    }
   ],
   "source": [
    "# Train the model\n",
    "model.fit(X_train_pad, y_train, validation_data=(X_test_pad, y_test), epochs=100, batch_size=32)\n"
   ]
  },
  {
   "cell_type": "code",
   "execution_count": 27,
   "metadata": {},
   "outputs": [
    {
     "name": "stdout",
     "output_type": "stream",
     "text": [
      "2/2 [==============================] - 1s 180ms/step - loss: 1.8498e-07 - accuracy: 1.0000\n",
      "Test Loss: 1.8498306531000708e-07\n",
      "Test Accuracy: 1.0\n"
     ]
    }
   ],
   "source": [
    "# Evaluate the model\n",
    "loss, accuracy = model.evaluate(X_test_pad, y_test)\n",
    "print('Test Loss:', loss)\n",
    "print('Test Accuracy:', accuracy)"
   ]
  },
  {
   "cell_type": "code",
   "execution_count": 26,
   "metadata": {},
   "outputs": [],
   "source": [
    "model.save('models/model_large.h5')"
   ]
  },
  {
   "cell_type": "code",
   "execution_count": null,
   "metadata": {},
   "outputs": [],
   "source": []
  }
 ],
 "metadata": {
  "kernelspec": {
   "display_name": "DataMining",
   "language": "python",
   "name": "python3"
  },
  "language_info": {
   "codemirror_mode": {
    "name": "ipython",
    "version": 3
   },
   "file_extension": ".py",
   "mimetype": "text/x-python",
   "name": "python",
   "nbconvert_exporter": "python",
   "pygments_lexer": "ipython3",
   "version": "3.10.11"
  },
  "orig_nbformat": 4
 },
 "nbformat": 4,
 "nbformat_minor": 2
}
